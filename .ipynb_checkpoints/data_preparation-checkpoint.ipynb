{
 "cells": [
  {
   "cell_type": "markdown",
   "id": "41fd5ac7",
   "metadata": {},
   "source": [
    "# Dior, Hermes, Kering, and Lousi Vuitton Stock Price (2000 - 2022) Analysis: Data Preparation"
   ]
  },
  {
   "cell_type": "markdown",
   "id": "5704b384",
   "metadata": {},
   "source": [
    "Author: Zhongyi (James) Guo <br>\n",
    "Date: 02/26/2024 <br>\n",
    "Email: guozy@stanford.edu | jamesguo0320@icloud.com <br>\n",
    "Personal Website: https://jg1andonly.github.io"
   ]
  },
  {
   "cell_type": "code",
   "execution_count": 1,
   "id": "f2441bb4",
   "metadata": {},
   "outputs": [],
   "source": [
    "import pandas as pd"
   ]
  },
  {
   "cell_type": "markdown",
   "id": "23751d23",
   "metadata": {},
   "source": [
    "### Data Cleaning"
   ]
  },
  {
   "cell_type": "markdown",
   "id": "1bae0ca7",
   "metadata": {},
   "source": [
    "Data source: The dataset titled `French Luxury Companies 2000-2022.csv` was downloaded from the following URL: https://www.kaggle.com/datasets/prasertk/french-luxury-companies. We have made it available in our repository for easier access."
   ]
  },
  {
   "cell_type": "markdown",
   "id": "8c0706ff",
   "metadata": {},
   "source": [
    "First, we will load the `French Luxury Companies 2000-2022.csv` dataset into a pandas DataFrame for our analysis."
   ]
  },
  {
   "cell_type": "code",
   "execution_count": 2,
   "id": "60e8483b",
   "metadata": {},
   "outputs": [
    {
     "data": {
      "text/html": [
       "<div>\n",
       "<style scoped>\n",
       "    .dataframe tbody tr th:only-of-type {\n",
       "        vertical-align: middle;\n",
       "    }\n",
       "\n",
       "    .dataframe tbody tr th {\n",
       "        vertical-align: top;\n",
       "    }\n",
       "\n",
       "    .dataframe thead th {\n",
       "        text-align: right;\n",
       "    }\n",
       "</style>\n",
       "<table border=\"1\" class=\"dataframe\">\n",
       "  <thead>\n",
       "    <tr style=\"text-align: right;\">\n",
       "      <th></th>\n",
       "      <th>Date</th>\n",
       "      <th>Symbol</th>\n",
       "      <th>Adj Close</th>\n",
       "      <th>Close</th>\n",
       "      <th>High</th>\n",
       "      <th>Low</th>\n",
       "      <th>Open</th>\n",
       "      <th>Volume</th>\n",
       "    </tr>\n",
       "  </thead>\n",
       "  <tbody>\n",
       "    <tr>\n",
       "      <th>0</th>\n",
       "      <td>1999-12-31</td>\n",
       "      <td>CDI.PA</td>\n",
       "      <td>32.674278</td>\n",
       "      <td>61.500000</td>\n",
       "      <td>61.500000</td>\n",
       "      <td>61.500000</td>\n",
       "      <td>61.500000</td>\n",
       "      <td>0.0</td>\n",
       "    </tr>\n",
       "    <tr>\n",
       "      <th>1</th>\n",
       "      <td>2000-01-03</td>\n",
       "      <td>RMS.PA</td>\n",
       "      <td>37.210770</td>\n",
       "      <td>49.033333</td>\n",
       "      <td>50.000000</td>\n",
       "      <td>48.333332</td>\n",
       "      <td>49.666664</td>\n",
       "      <td>16395.0</td>\n",
       "    </tr>\n",
       "    <tr>\n",
       "      <th>2</th>\n",
       "      <td>2000-01-03</td>\n",
       "      <td>MC.PA</td>\n",
       "      <td>57.833614</td>\n",
       "      <td>88.800003</td>\n",
       "      <td>93.180000</td>\n",
       "      <td>88.199997</td>\n",
       "      <td>91.779999</td>\n",
       "      <td>615855.0</td>\n",
       "    </tr>\n",
       "    <tr>\n",
       "      <th>3</th>\n",
       "      <td>2000-01-03</td>\n",
       "      <td>CDI.PA</td>\n",
       "      <td>32.844299</td>\n",
       "      <td>61.820000</td>\n",
       "      <td>63.950001</td>\n",
       "      <td>61.750000</td>\n",
       "      <td>62.200001</td>\n",
       "      <td>424416.0</td>\n",
       "    </tr>\n",
       "    <tr>\n",
       "      <th>4</th>\n",
       "      <td>2000-01-03</td>\n",
       "      <td>KER.PA</td>\n",
       "      <td>120.705658</td>\n",
       "      <td>239.145950</td>\n",
       "      <td>249.091003</td>\n",
       "      <td>235.149338</td>\n",
       "      <td>246.116776</td>\n",
       "      <td>185169.0</td>\n",
       "    </tr>\n",
       "  </tbody>\n",
       "</table>\n",
       "</div>"
      ],
      "text/plain": [
       "         Date  Symbol   Adj Close       Close        High         Low  \\\n",
       "0  1999-12-31  CDI.PA   32.674278   61.500000   61.500000   61.500000   \n",
       "1  2000-01-03  RMS.PA   37.210770   49.033333   50.000000   48.333332   \n",
       "2  2000-01-03   MC.PA   57.833614   88.800003   93.180000   88.199997   \n",
       "3  2000-01-03  CDI.PA   32.844299   61.820000   63.950001   61.750000   \n",
       "4  2000-01-03  KER.PA  120.705658  239.145950  249.091003  235.149338   \n",
       "\n",
       "         Open    Volume  \n",
       "0   61.500000       0.0  \n",
       "1   49.666664   16395.0  \n",
       "2   91.779999  615855.0  \n",
       "3   62.200001  424416.0  \n",
       "4  246.116776  185169.0  "
      ]
     },
     "execution_count": 2,
     "metadata": {},
     "output_type": "execute_result"
    }
   ],
   "source": [
    "df = pd.read_csv('French luxury companies 2000-2022.csv')\n",
    "df.head()"
   ]
  },
  {
   "cell_type": "markdown",
   "id": "c24a1eb4",
   "metadata": {},
   "source": [
    "Upon initial glimpse, we observed the first observation, recorded on '1999-12-31', falls outside the specified range in our study and pertains solely to Christian Dior (`CDI.PA`). This entry will be treated as noise and subsequently removed from our dataframe.\n",
    "\n",
    "Additionally, we noticed that the first letter of each column name is capitalized. To maintain consistency and facilitate easier column referencing, we will convert all column names to lowercase and replace spaces with underscores."
   ]
  },
  {
   "cell_type": "code",
   "execution_count": 3,
   "id": "490055d8",
   "metadata": {},
   "outputs": [
    {
     "data": {
      "text/html": [
       "<div>\n",
       "<style scoped>\n",
       "    .dataframe tbody tr th:only-of-type {\n",
       "        vertical-align: middle;\n",
       "    }\n",
       "\n",
       "    .dataframe tbody tr th {\n",
       "        vertical-align: top;\n",
       "    }\n",
       "\n",
       "    .dataframe thead th {\n",
       "        text-align: right;\n",
       "    }\n",
       "</style>\n",
       "<table border=\"1\" class=\"dataframe\">\n",
       "  <thead>\n",
       "    <tr style=\"text-align: right;\">\n",
       "      <th></th>\n",
       "      <th>date</th>\n",
       "      <th>symbol</th>\n",
       "      <th>adj_close</th>\n",
       "      <th>close</th>\n",
       "      <th>high</th>\n",
       "      <th>low</th>\n",
       "      <th>open</th>\n",
       "      <th>volume</th>\n",
       "    </tr>\n",
       "  </thead>\n",
       "  <tbody>\n",
       "    <tr>\n",
       "      <th>0</th>\n",
       "      <td>2000-01-03</td>\n",
       "      <td>RMS.PA</td>\n",
       "      <td>37.210770</td>\n",
       "      <td>49.033333</td>\n",
       "      <td>50.000000</td>\n",
       "      <td>48.333332</td>\n",
       "      <td>49.666664</td>\n",
       "      <td>16395.0</td>\n",
       "    </tr>\n",
       "    <tr>\n",
       "      <th>1</th>\n",
       "      <td>2000-01-03</td>\n",
       "      <td>MC.PA</td>\n",
       "      <td>57.833614</td>\n",
       "      <td>88.800003</td>\n",
       "      <td>93.180000</td>\n",
       "      <td>88.199997</td>\n",
       "      <td>91.779999</td>\n",
       "      <td>615855.0</td>\n",
       "    </tr>\n",
       "    <tr>\n",
       "      <th>2</th>\n",
       "      <td>2000-01-03</td>\n",
       "      <td>CDI.PA</td>\n",
       "      <td>32.844299</td>\n",
       "      <td>61.820000</td>\n",
       "      <td>63.950001</td>\n",
       "      <td>61.750000</td>\n",
       "      <td>62.200001</td>\n",
       "      <td>424416.0</td>\n",
       "    </tr>\n",
       "    <tr>\n",
       "      <th>3</th>\n",
       "      <td>2000-01-03</td>\n",
       "      <td>KER.PA</td>\n",
       "      <td>120.705658</td>\n",
       "      <td>239.145950</td>\n",
       "      <td>249.091003</td>\n",
       "      <td>235.149338</td>\n",
       "      <td>246.116776</td>\n",
       "      <td>185169.0</td>\n",
       "    </tr>\n",
       "    <tr>\n",
       "      <th>4</th>\n",
       "      <td>2000-01-04</td>\n",
       "      <td>RMS.PA</td>\n",
       "      <td>34.934105</td>\n",
       "      <td>46.033333</td>\n",
       "      <td>48.766666</td>\n",
       "      <td>45.533333</td>\n",
       "      <td>48.766666</td>\n",
       "      <td>33063.0</td>\n",
       "    </tr>\n",
       "  </tbody>\n",
       "</table>\n",
       "</div>"
      ],
      "text/plain": [
       "         date  symbol   adj_close       close        high         low  \\\n",
       "0  2000-01-03  RMS.PA   37.210770   49.033333   50.000000   48.333332   \n",
       "1  2000-01-03   MC.PA   57.833614   88.800003   93.180000   88.199997   \n",
       "2  2000-01-03  CDI.PA   32.844299   61.820000   63.950001   61.750000   \n",
       "3  2000-01-03  KER.PA  120.705658  239.145950  249.091003  235.149338   \n",
       "4  2000-01-04  RMS.PA   34.934105   46.033333   48.766666   45.533333   \n",
       "\n",
       "         open    volume  \n",
       "0   49.666664   16395.0  \n",
       "1   91.779999  615855.0  \n",
       "2   62.200001  424416.0  \n",
       "3  246.116776  185169.0  \n",
       "4   48.766666   33063.0  "
      ]
     },
     "execution_count": 3,
     "metadata": {},
     "output_type": "execute_result"
    }
   ],
   "source": [
    "df = df.iloc[1:]\n",
    "df.reset_index(drop=True, inplace=True)\n",
    "df.columns = [col.lower() for col in df.columns]\n",
    "df.columns = [col.lower().replace(' ', '_') for col in df.columns]\n",
    "df.head()"
   ]
  },
  {
   "cell_type": "markdown",
   "id": "cb406524",
   "metadata": {},
   "source": [
    "Subsequently, we'll evaluate the presence of null values within this dataframe and examine the data type of each column."
   ]
  },
  {
   "cell_type": "code",
   "execution_count": 4,
   "id": "6aecfcc4",
   "metadata": {},
   "outputs": [
    {
     "name": "stdout",
     "output_type": "stream",
     "text": [
      "<class 'pandas.core.frame.DataFrame'>\n",
      "RangeIndex: 22940 entries, 0 to 22939\n",
      "Data columns (total 8 columns):\n",
      " #   Column     Non-Null Count  Dtype  \n",
      "---  ------     --------------  -----  \n",
      " 0   date       22940 non-null  object \n",
      " 1   symbol     22940 non-null  object \n",
      " 2   adj_close  22940 non-null  float64\n",
      " 3   close      22940 non-null  float64\n",
      " 4   high       22940 non-null  float64\n",
      " 5   low        22940 non-null  float64\n",
      " 6   open       22940 non-null  float64\n",
      " 7   volume     22940 non-null  float64\n",
      "dtypes: float64(6), object(2)\n",
      "memory usage: 1.4+ MB\n"
     ]
    }
   ],
   "source": [
    "df.info()"
   ]
  },
  {
   "cell_type": "markdown",
   "id": "0d357429",
   "metadata": {},
   "source": [
    "We identified that the `date` column is better suited as a datetime type, and the `symbol` column should be of a string type. We will proceed to convert these columns to their respective types for improved data handling and analysis.\n",
    "\n",
    "Also, all numerical variables are continuous, aligning with our expectations."
   ]
  },
  {
   "cell_type": "code",
   "execution_count": 5,
   "id": "0863b113",
   "metadata": {},
   "outputs": [],
   "source": [
    "df['date'] = pd.to_datetime(df['date'])\n",
    "df['symbol'] = df['symbol'].astype(str)"
   ]
  },
  {
   "cell_type": "markdown",
   "id": "57ea21c1",
   "metadata": {},
   "source": [
    "Additionally, based on the data documentation, the symbols `RMS.PA`, `MC.PA`, `CDI.PA`, and `KER.PA` represent the companies Hermes, Louis Vuitton (LV), Dior, and Kering, respectively. We will replace these with their corresponding company names, ensuring all are in lowercase for consistency. Afterwards, the column name `symbol` is no longer appropriate. We will rename it to `company`."
   ]
  },
  {
   "cell_type": "code",
   "execution_count": 6,
   "id": "7b2fe3c8",
   "metadata": {},
   "outputs": [
    {
     "data": {
      "text/html": [
       "<div>\n",
       "<style scoped>\n",
       "    .dataframe tbody tr th:only-of-type {\n",
       "        vertical-align: middle;\n",
       "    }\n",
       "\n",
       "    .dataframe tbody tr th {\n",
       "        vertical-align: top;\n",
       "    }\n",
       "\n",
       "    .dataframe thead th {\n",
       "        text-align: right;\n",
       "    }\n",
       "</style>\n",
       "<table border=\"1\" class=\"dataframe\">\n",
       "  <thead>\n",
       "    <tr style=\"text-align: right;\">\n",
       "      <th></th>\n",
       "      <th>date</th>\n",
       "      <th>company</th>\n",
       "      <th>adj_close</th>\n",
       "      <th>close</th>\n",
       "      <th>high</th>\n",
       "      <th>low</th>\n",
       "      <th>open</th>\n",
       "      <th>volume</th>\n",
       "    </tr>\n",
       "  </thead>\n",
       "  <tbody>\n",
       "    <tr>\n",
       "      <th>0</th>\n",
       "      <td>2000-01-03</td>\n",
       "      <td>hermes</td>\n",
       "      <td>37.210770</td>\n",
       "      <td>49.033333</td>\n",
       "      <td>50.000000</td>\n",
       "      <td>48.333332</td>\n",
       "      <td>49.666664</td>\n",
       "      <td>16395.0</td>\n",
       "    </tr>\n",
       "    <tr>\n",
       "      <th>1</th>\n",
       "      <td>2000-01-03</td>\n",
       "      <td>lv</td>\n",
       "      <td>57.833614</td>\n",
       "      <td>88.800003</td>\n",
       "      <td>93.180000</td>\n",
       "      <td>88.199997</td>\n",
       "      <td>91.779999</td>\n",
       "      <td>615855.0</td>\n",
       "    </tr>\n",
       "    <tr>\n",
       "      <th>2</th>\n",
       "      <td>2000-01-03</td>\n",
       "      <td>dior</td>\n",
       "      <td>32.844299</td>\n",
       "      <td>61.820000</td>\n",
       "      <td>63.950001</td>\n",
       "      <td>61.750000</td>\n",
       "      <td>62.200001</td>\n",
       "      <td>424416.0</td>\n",
       "    </tr>\n",
       "    <tr>\n",
       "      <th>3</th>\n",
       "      <td>2000-01-03</td>\n",
       "      <td>kering</td>\n",
       "      <td>120.705658</td>\n",
       "      <td>239.145950</td>\n",
       "      <td>249.091003</td>\n",
       "      <td>235.149338</td>\n",
       "      <td>246.116776</td>\n",
       "      <td>185169.0</td>\n",
       "    </tr>\n",
       "    <tr>\n",
       "      <th>4</th>\n",
       "      <td>2000-01-04</td>\n",
       "      <td>hermes</td>\n",
       "      <td>34.934105</td>\n",
       "      <td>46.033333</td>\n",
       "      <td>48.766666</td>\n",
       "      <td>45.533333</td>\n",
       "      <td>48.766666</td>\n",
       "      <td>33063.0</td>\n",
       "    </tr>\n",
       "  </tbody>\n",
       "</table>\n",
       "</div>"
      ],
      "text/plain": [
       "        date company   adj_close       close        high         low  \\\n",
       "0 2000-01-03  hermes   37.210770   49.033333   50.000000   48.333332   \n",
       "1 2000-01-03      lv   57.833614   88.800003   93.180000   88.199997   \n",
       "2 2000-01-03    dior   32.844299   61.820000   63.950001   61.750000   \n",
       "3 2000-01-03  kering  120.705658  239.145950  249.091003  235.149338   \n",
       "4 2000-01-04  hermes   34.934105   46.033333   48.766666   45.533333   \n",
       "\n",
       "         open    volume  \n",
       "0   49.666664   16395.0  \n",
       "1   91.779999  615855.0  \n",
       "2   62.200001  424416.0  \n",
       "3  246.116776  185169.0  \n",
       "4   48.766666   33063.0  "
      ]
     },
     "execution_count": 6,
     "metadata": {},
     "output_type": "execute_result"
    }
   ],
   "source": [
    "symbol_to_company = {\n",
    "    'rms.pa': 'hermes',\n",
    "    'mc.pa': 'lv',\n",
    "    'cdi.pa': 'dior',\n",
    "    'ker.pa': 'kering'\n",
    "}\n",
    "df['symbol'] = df['symbol'].str.lower().map(symbol_to_company)\n",
    "df = df.rename(columns={'symbol': 'company'})\n",
    "df.head()"
   ]
  },
  {
   "cell_type": "markdown",
   "id": "532ed557",
   "metadata": {},
   "source": [
    "We need to rearrange the columns to align with the chronological sequence of stock trading events: 'open', 'high', 'low', 'close', and 'adjusted close', with the remaining columns unchanged."
   ]
  },
  {
   "cell_type": "code",
   "execution_count": 7,
   "id": "47de3835",
   "metadata": {},
   "outputs": [
    {
     "data": {
      "text/html": [
       "<div>\n",
       "<style scoped>\n",
       "    .dataframe tbody tr th:only-of-type {\n",
       "        vertical-align: middle;\n",
       "    }\n",
       "\n",
       "    .dataframe tbody tr th {\n",
       "        vertical-align: top;\n",
       "    }\n",
       "\n",
       "    .dataframe thead th {\n",
       "        text-align: right;\n",
       "    }\n",
       "</style>\n",
       "<table border=\"1\" class=\"dataframe\">\n",
       "  <thead>\n",
       "    <tr style=\"text-align: right;\">\n",
       "      <th></th>\n",
       "      <th>date</th>\n",
       "      <th>company</th>\n",
       "      <th>open</th>\n",
       "      <th>high</th>\n",
       "      <th>low</th>\n",
       "      <th>close</th>\n",
       "      <th>adj_close</th>\n",
       "      <th>volume</th>\n",
       "    </tr>\n",
       "  </thead>\n",
       "  <tbody>\n",
       "    <tr>\n",
       "      <th>0</th>\n",
       "      <td>2000-01-03</td>\n",
       "      <td>hermes</td>\n",
       "      <td>49.666664</td>\n",
       "      <td>50.000000</td>\n",
       "      <td>48.333332</td>\n",
       "      <td>49.033333</td>\n",
       "      <td>37.210770</td>\n",
       "      <td>16395.0</td>\n",
       "    </tr>\n",
       "    <tr>\n",
       "      <th>1</th>\n",
       "      <td>2000-01-03</td>\n",
       "      <td>lv</td>\n",
       "      <td>91.779999</td>\n",
       "      <td>93.180000</td>\n",
       "      <td>88.199997</td>\n",
       "      <td>88.800003</td>\n",
       "      <td>57.833614</td>\n",
       "      <td>615855.0</td>\n",
       "    </tr>\n",
       "    <tr>\n",
       "      <th>2</th>\n",
       "      <td>2000-01-03</td>\n",
       "      <td>dior</td>\n",
       "      <td>62.200001</td>\n",
       "      <td>63.950001</td>\n",
       "      <td>61.750000</td>\n",
       "      <td>61.820000</td>\n",
       "      <td>32.844299</td>\n",
       "      <td>424416.0</td>\n",
       "    </tr>\n",
       "    <tr>\n",
       "      <th>3</th>\n",
       "      <td>2000-01-03</td>\n",
       "      <td>kering</td>\n",
       "      <td>246.116776</td>\n",
       "      <td>249.091003</td>\n",
       "      <td>235.149338</td>\n",
       "      <td>239.145950</td>\n",
       "      <td>120.705658</td>\n",
       "      <td>185169.0</td>\n",
       "    </tr>\n",
       "    <tr>\n",
       "      <th>4</th>\n",
       "      <td>2000-01-04</td>\n",
       "      <td>hermes</td>\n",
       "      <td>48.766666</td>\n",
       "      <td>48.766666</td>\n",
       "      <td>45.533333</td>\n",
       "      <td>46.033333</td>\n",
       "      <td>34.934105</td>\n",
       "      <td>33063.0</td>\n",
       "    </tr>\n",
       "  </tbody>\n",
       "</table>\n",
       "</div>"
      ],
      "text/plain": [
       "        date company        open        high         low       close  \\\n",
       "0 2000-01-03  hermes   49.666664   50.000000   48.333332   49.033333   \n",
       "1 2000-01-03      lv   91.779999   93.180000   88.199997   88.800003   \n",
       "2 2000-01-03    dior   62.200001   63.950001   61.750000   61.820000   \n",
       "3 2000-01-03  kering  246.116776  249.091003  235.149338  239.145950   \n",
       "4 2000-01-04  hermes   48.766666   48.766666   45.533333   46.033333   \n",
       "\n",
       "    adj_close    volume  \n",
       "0   37.210770   16395.0  \n",
       "1   57.833614  615855.0  \n",
       "2   32.844299  424416.0  \n",
       "3  120.705658  185169.0  \n",
       "4   34.934105   33063.0  "
      ]
     },
     "execution_count": 7,
     "metadata": {},
     "output_type": "execute_result"
    }
   ],
   "source": [
    "columns_order = ['date', 'company', 'open', 'high', 'low', 'close', 'adj_close', 'volume']\n",
    "df = df[columns_order]\n",
    "df.head()"
   ]
  },
  {
   "cell_type": "markdown",
   "id": "7f7ba253",
   "metadata": {},
   "source": [
    "The general dataframe has been cleaned and prepared. We will now proceed to export it as a CSV file for subsequent analysis and use."
   ]
  },
  {
   "cell_type": "code",
   "execution_count": 8,
   "id": "551187b4",
   "metadata": {},
   "outputs": [],
   "source": [
    "df.to_csv('cleaned_general_data.csv', index = False)"
   ]
  },
  {
   "cell_type": "markdown",
   "id": "41b4ef46",
   "metadata": {},
   "source": [
    "Furthermore, we opted to create separate datasets for each individual company."
   ]
  },
  {
   "cell_type": "code",
   "execution_count": 9,
   "id": "e30096ae",
   "metadata": {},
   "outputs": [],
   "source": [
    "grouped_dfs = {company: group for company, group in df.groupby('company')}\n",
    "df_dior = grouped_dfs['dior']\n",
    "df_hermes = grouped_dfs['hermes']\n",
    "df_lv = grouped_dfs['lv']\n",
    "df_kering = grouped_dfs['kering']"
   ]
  },
  {
   "cell_type": "code",
   "execution_count": 10,
   "id": "78100460",
   "metadata": {},
   "outputs": [],
   "source": [
    "df_dior.to_csv('dior.csv', index = False)\n",
    "df_hermes.to_csv('hermes.csv', index = False)\n",
    "df_lv.to_csv('lv.csv', index = False)\n",
    "df_kering.to_csv('kering.csv', index = False)"
   ]
  },
  {
   "cell_type": "markdown",
   "id": "2c908d5a",
   "metadata": {},
   "source": [
    "In conclusion, our data preparation process has been thorough and meticulous, ensuring that the dataset is now clean, organized, and ready for further analysis. By converting data types to their appropriate formats, examining on missing values, standardizing column names, and segregating the dataset into individual files for each company, we have laid a solid foundation for the upcoming stages of our analysis. This structured approach not only enhances the reliability of our analysis but also facilitates a more efficient exploration of trends, patterns, and insights within the stock performance of these luxury companies. Moving forward, this prepared dataset will serve as a pivotal asset in our endeavor to extract meaningful conclusions and support data-driven decision-making."
   ]
  }
 ],
 "metadata": {
  "kernelspec": {
   "display_name": "Python 3 (ipykernel)",
   "language": "python",
   "name": "python3"
  },
  "language_info": {
   "codemirror_mode": {
    "name": "ipython",
    "version": 3
   },
   "file_extension": ".py",
   "mimetype": "text/x-python",
   "name": "python",
   "nbconvert_exporter": "python",
   "pygments_lexer": "ipython3",
   "version": "3.11.4"
  }
 },
 "nbformat": 4,
 "nbformat_minor": 5
}
